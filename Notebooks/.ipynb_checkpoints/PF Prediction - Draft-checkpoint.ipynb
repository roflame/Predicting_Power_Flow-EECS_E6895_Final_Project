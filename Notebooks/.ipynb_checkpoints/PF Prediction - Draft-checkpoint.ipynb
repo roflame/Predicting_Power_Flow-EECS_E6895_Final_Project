{
 "cells": [
  {
   "cell_type": "code",
   "execution_count": 198,
   "id": "e920155f",
   "metadata": {},
   "outputs": [],
   "source": [
    "import pandas as pd\n",
    "import numpy as np\n",
    "from sklearn import linear_model\n",
    "from sklearn import metrics\n",
    "from sklearn.model_selection import train_test_split\n",
    "from sklearn.ensemble import RandomForestRegressor\n",
    "from sklearn.metrics import classification_report, confusion_matrix, accuracy_score\n",
    "from sklearn.neighbors import KNeighborsClassifier\n",
    "from sklearn import preprocessing"
   ]
  },
  {
   "cell_type": "code",
   "execution_count": 199,
   "id": "275b293b",
   "metadata": {},
   "outputs": [
    {
     "data": {
      "text/html": [
       "<div>\n",
       "<style scoped>\n",
       "    .dataframe tbody tr th:only-of-type {\n",
       "        vertical-align: middle;\n",
       "    }\n",
       "\n",
       "    .dataframe tbody tr th {\n",
       "        vertical-align: top;\n",
       "    }\n",
       "\n",
       "    .dataframe thead th {\n",
       "        text-align: right;\n",
       "    }\n",
       "</style>\n",
       "<table border=\"1\" class=\"dataframe\">\n",
       "  <thead>\n",
       "    <tr style=\"text-align: right;\">\n",
       "      <th></th>\n",
       "      <th>Bus</th>\n",
       "      <th>Voltage</th>\n",
       "      <th>Season</th>\n",
       "      <th>Time</th>\n",
       "      <th>Demand</th>\n",
       "      <th>Renewables</th>\n",
       "      <th>Output</th>\n",
       "    </tr>\n",
       "  </thead>\n",
       "  <tbody>\n",
       "    <tr>\n",
       "      <th>0</th>\n",
       "      <td>1</td>\n",
       "      <td>1.0796</td>\n",
       "      <td>1</td>\n",
       "      <td>1</td>\n",
       "      <td>100</td>\n",
       "      <td>8</td>\n",
       "      <td>1</td>\n",
       "    </tr>\n",
       "    <tr>\n",
       "      <th>1</th>\n",
       "      <td>2</td>\n",
       "      <td>1.0988</td>\n",
       "      <td>1</td>\n",
       "      <td>1</td>\n",
       "      <td>100</td>\n",
       "      <td>8</td>\n",
       "      <td>1</td>\n",
       "    </tr>\n",
       "    <tr>\n",
       "      <th>2</th>\n",
       "      <td>3</td>\n",
       "      <td>1.0841</td>\n",
       "      <td>1</td>\n",
       "      <td>1</td>\n",
       "      <td>100</td>\n",
       "      <td>8</td>\n",
       "      <td>1</td>\n",
       "    </tr>\n",
       "    <tr>\n",
       "      <th>3</th>\n",
       "      <td>4</td>\n",
       "      <td>1.0650</td>\n",
       "      <td>1</td>\n",
       "      <td>1</td>\n",
       "      <td>100</td>\n",
       "      <td>8</td>\n",
       "      <td>1</td>\n",
       "    </tr>\n",
       "    <tr>\n",
       "      <th>4</th>\n",
       "      <td>5</td>\n",
       "      <td>1.0643</td>\n",
       "      <td>1</td>\n",
       "      <td>1</td>\n",
       "      <td>100</td>\n",
       "      <td>8</td>\n",
       "      <td>1</td>\n",
       "    </tr>\n",
       "    <tr>\n",
       "      <th>...</th>\n",
       "      <td>...</td>\n",
       "      <td>...</td>\n",
       "      <td>...</td>\n",
       "      <td>...</td>\n",
       "      <td>...</td>\n",
       "      <td>...</td>\n",
       "      <td>...</td>\n",
       "    </tr>\n",
       "    <tr>\n",
       "      <th>2725</th>\n",
       "      <td>35</td>\n",
       "      <td>1.0469</td>\n",
       "      <td>0</td>\n",
       "      <td>0</td>\n",
       "      <td>200</td>\n",
       "      <td>50</td>\n",
       "      <td>-1</td>\n",
       "    </tr>\n",
       "    <tr>\n",
       "      <th>2726</th>\n",
       "      <td>36</td>\n",
       "      <td>1.0829</td>\n",
       "      <td>0</td>\n",
       "      <td>0</td>\n",
       "      <td>200</td>\n",
       "      <td>50</td>\n",
       "      <td>-1</td>\n",
       "    </tr>\n",
       "    <tr>\n",
       "      <th>2727</th>\n",
       "      <td>37</td>\n",
       "      <td>1.0804</td>\n",
       "      <td>0</td>\n",
       "      <td>0</td>\n",
       "      <td>200</td>\n",
       "      <td>50</td>\n",
       "      <td>-1</td>\n",
       "    </tr>\n",
       "    <tr>\n",
       "      <th>2728</th>\n",
       "      <td>38</td>\n",
       "      <td>1.0920</td>\n",
       "      <td>0</td>\n",
       "      <td>0</td>\n",
       "      <td>200</td>\n",
       "      <td>50</td>\n",
       "      <td>-1</td>\n",
       "    </tr>\n",
       "    <tr>\n",
       "      <th>2729</th>\n",
       "      <td>39</td>\n",
       "      <td>1.0313</td>\n",
       "      <td>0</td>\n",
       "      <td>0</td>\n",
       "      <td>200</td>\n",
       "      <td>50</td>\n",
       "      <td>-1</td>\n",
       "    </tr>\n",
       "  </tbody>\n",
       "</table>\n",
       "<p>2730 rows × 7 columns</p>\n",
       "</div>"
      ],
      "text/plain": [
       "      Bus  Voltage  Season  Time  Demand  Renewables  Output\n",
       "0       1   1.0796       1     1     100           8       1\n",
       "1       2   1.0988       1     1     100           8       1\n",
       "2       3   1.0841       1     1     100           8       1\n",
       "3       4   1.0650       1     1     100           8       1\n",
       "4       5   1.0643       1     1     100           8       1\n",
       "...   ...      ...     ...   ...     ...         ...     ...\n",
       "2725   35   1.0469       0     0     200          50      -1\n",
       "2726   36   1.0829       0     0     200          50      -1\n",
       "2727   37   1.0804       0     0     200          50      -1\n",
       "2728   38   1.0920       0     0     200          50      -1\n",
       "2729   39   1.0313       0     0     200          50      -1\n",
       "\n",
       "[2730 rows x 7 columns]"
      ]
     },
     "execution_count": 199,
     "metadata": {},
     "output_type": "execute_result"
    }
   ],
   "source": [
    "# Season: 1 = Summer, 0 = Winter\n",
    "# Time: 1 = Day, 0 = Night\n",
    "# Output: 1 = Converges, -1 = Explodes\n",
    "\n",
    "df = pandas.read_csv(r'C:\\Users\\Rohan\\Desktop\\Big Data\\PSSE Files\\Data\\Data.csv')\n",
    "df"
   ]
  },
  {
   "cell_type": "markdown",
   "id": "f753dd1f",
   "metadata": {},
   "source": [
    "## Linear Regression"
   ]
  },
  {
   "cell_type": "code",
   "execution_count": 221,
   "id": "fd10ed97",
   "metadata": {},
   "outputs": [],
   "source": [
    "X = df[['Season', 'Time', 'Demand', 'Renewables']]\n",
    "y = df[['Voltage','Output']]"
   ]
  },
  {
   "cell_type": "code",
   "execution_count": 222,
   "id": "e1792581",
   "metadata": {},
   "outputs": [
    {
     "data": {
      "text/plain": [
       "LinearRegression()"
      ]
     },
     "execution_count": 222,
     "metadata": {},
     "output_type": "execute_result"
    }
   ],
   "source": [
    "regr = linear_model.LinearRegression()\n",
    "regr.fit(X, y)"
   ]
  },
  {
   "cell_type": "code",
   "execution_count": 223,
   "id": "d45010d3",
   "metadata": {},
   "outputs": [],
   "source": [
    "predicted = regr.predict([[1, 0, 120, 8]])"
   ]
  },
  {
   "cell_type": "code",
   "execution_count": 224,
   "id": "d4cc9cbb",
   "metadata": {},
   "outputs": [
    {
     "name": "stdout",
     "output_type": "stream",
     "text": [
      "[[0.96253003 0.50927239]]\n"
     ]
    }
   ],
   "source": [
    "print(predicted)"
   ]
  },
  {
   "cell_type": "code",
   "execution_count": 225,
   "id": "69daab06",
   "metadata": {},
   "outputs": [
    {
     "name": "stdout",
     "output_type": "stream",
     "text": [
      "[1.57362168 3.48434251]\n",
      "[[-0.00835802  0.01984549 -0.00486664 -0.00234212]\n",
      " [-0.05289755  0.11428571 -0.02350629 -0.01267725]]\n"
     ]
    }
   ],
   "source": [
    "print(regr.intercept_)\n",
    "print(regr.coef_)"
   ]
  },
  {
   "cell_type": "code",
   "execution_count": 226,
   "id": "2b14d0b4",
   "metadata": {},
   "outputs": [],
   "source": [
    "X_train, X_test, y_train, y_test = train_test_split(X, y, random_state=1)"
   ]
  },
  {
   "cell_type": "code",
   "execution_count": 227,
   "id": "4da2b6ec",
   "metadata": {},
   "outputs": [
    {
     "data": {
      "text/plain": [
       "array([[ 0.91328541,  0.22811004],\n",
       "       [ 0.79258878, -0.34991244],\n",
       "       [ 0.52825065, -1.71737651],\n",
       "       ...,\n",
       "       [ 0.60282778, -1.3224675 ],\n",
       "       [ 0.50508632, -1.81925824],\n",
       "       [ 0.96459076,  0.50473553]])"
      ]
     },
     "execution_count": 227,
     "metadata": {},
     "output_type": "execute_result"
    }
   ],
   "source": [
    "# Instantiate model\n",
    "lm2 = linear_model.LinearRegression()\n",
    "\n",
    "# Fit Model\n",
    "lm2.fit(X_train, y_train)\n",
    "\n",
    "# Predict\n",
    "y_pred = lm2.predict(X_test)\n",
    "y_pred"
   ]
  },
  {
   "cell_type": "code",
   "execution_count": 228,
   "id": "299a9ea9",
   "metadata": {},
   "outputs": [
    {
     "name": "stdout",
     "output_type": "stream",
     "text": [
      "0.4370572702866801\n"
     ]
    }
   ],
   "source": [
    "print(np.sqrt(metrics.mean_squared_error(y_test, y_pred)))"
   ]
  },
  {
   "cell_type": "markdown",
   "id": "d4450992",
   "metadata": {},
   "source": [
    "## kNN Trials"
   ]
  },
  {
   "cell_type": "code",
   "execution_count": 219,
   "id": "78c9a393",
   "metadata": {},
   "outputs": [
    {
     "name": "stderr",
     "output_type": "stream",
     "text": [
      "C:\\Users\\Rohan\\anaconda3\\lib\\site-packages\\sklearn\\utils\\validation.py:63: DataConversionWarning: A column-vector y was passed when a 1d array was expected. Please change the shape of y to (n_samples, ), for example using ravel().\n",
      "  return f(*args, **kwargs)\n",
      "C:\\Users\\Rohan\\anaconda3\\lib\\site-packages\\sklearn\\neighbors\\_classification.py:179: DataConversionWarning: A column-vector y was passed when a 1d array was expected. Please change the shape of y to (n_samples,), for example using ravel().\n",
      "  return self._fit(X, y)\n"
     ]
    },
    {
     "data": {
      "text/plain": [
       "array([ 1, -1, -1, -1,  1,  1,  1,  1,  1, -1,  1, -1, -1, -1,  1,  1, -1,\n",
       "       -1, -1,  1,  1, -1, -1,  1,  1, -1,  1,  1, -1, -1, -1, -1,  1,  1,\n",
       "        1, -1, -1,  1, -1,  1,  1, -1,  1,  1, -1,  1,  1,  1,  1, -1,  1,\n",
       "        1, -1, -1,  1, -1,  1,  1,  1,  1,  1, -1, -1,  1,  1,  1,  1,  1,\n",
       "        1, -1,  1,  1, -1, -1, -1, -1,  1,  1, -1,  1,  1,  1,  1,  1,  1,\n",
       "       -1, -1,  1,  1,  1,  1, -1, -1, -1,  1,  1, -1, -1, -1,  1,  1, -1,\n",
       "       -1, -1,  1,  1, -1, -1,  1,  1, -1, -1,  1, -1,  1,  1,  1,  1,  1,\n",
       "       -1,  1, -1,  1,  1, -1,  1,  1, -1,  1, -1,  1,  1,  1, -1, -1,  1,\n",
       "       -1,  1,  1,  1,  1,  1,  1,  1, -1,  1,  1, -1,  1,  1, -1,  1, -1,\n",
       "        1, -1, -1, -1, -1,  1,  1,  1,  1,  1,  1, -1,  1,  1,  1,  1, -1,\n",
       "        1, -1,  1, -1,  1,  1,  1,  1,  1, -1, -1,  1,  1, -1, -1, -1,  1,\n",
       "        1, -1, -1,  1,  1, -1,  1, -1, -1,  1,  1,  1, -1,  1,  1,  1,  1,\n",
       "        1, -1,  1,  1,  1,  1, -1, -1,  1, -1,  1, -1,  1,  1, -1,  1,  1,\n",
       "       -1, -1, -1, -1, -1, -1,  1,  1, -1,  1,  1,  1,  1, -1,  1, -1, -1,\n",
       "       -1,  1,  1,  1,  1,  1, -1,  1, -1,  1,  1,  1,  1, -1,  1,  1, -1,\n",
       "        1, -1,  1,  1, -1,  1, -1,  1, -1,  1,  1,  1, -1, -1, -1,  1,  1,\n",
       "       -1,  1,  1, -1, -1, -1, -1,  1,  1, -1, -1, -1,  1,  1, -1, -1,  1,\n",
       "        1,  1,  1,  1,  1, -1,  1, -1, -1, -1, -1, -1,  1,  1, -1,  1, -1,\n",
       "        1,  1, -1,  1,  1, -1, -1, -1, -1, -1, -1, -1,  1,  1,  1,  1, -1,\n",
       "        1, -1,  1, -1,  1,  1,  1,  1, -1,  1, -1,  1, -1,  1, -1, -1, -1,\n",
       "        1,  1, -1, -1,  1, -1,  1,  1, -1,  1,  1, -1, -1, -1,  1,  1, -1,\n",
       "       -1,  1,  1,  1,  1,  1, -1,  1,  1, -1,  1,  1,  1, -1, -1, -1,  1,\n",
       "       -1,  1,  1,  1, -1,  1,  1,  1, -1,  1, -1,  1,  1, -1, -1,  1, -1,\n",
       "        1,  1,  1,  1,  1, -1, -1, -1,  1, -1, -1, -1,  1,  1, -1,  1, -1,\n",
       "        1,  1,  1, -1, -1,  1,  1,  1, -1,  1, -1, -1, -1,  1,  1,  1, -1,\n",
       "        1,  1,  1,  1, -1,  1, -1, -1,  1,  1, -1,  1,  1,  1,  1, -1, -1,\n",
       "       -1,  1,  1,  1, -1,  1,  1,  1, -1, -1, -1,  1, -1, -1,  1, -1, -1,\n",
       "        1,  1,  1, -1,  1,  1,  1, -1,  1, -1, -1,  1,  1, -1,  1,  1,  1,\n",
       "        1,  1,  1, -1,  1,  1,  1,  1,  1,  1,  1, -1, -1,  1,  1,  1, -1,\n",
       "        1,  1, -1,  1, -1,  1, -1, -1,  1,  1,  1,  1,  1,  1, -1,  1,  1,\n",
       "       -1,  1,  1,  1, -1,  1, -1,  1,  1,  1,  1, -1, -1, -1, -1,  1,  1,\n",
       "       -1, -1,  1,  1, -1, -1, -1,  1, -1, -1, -1,  1, -1, -1,  1,  1,  1,\n",
       "        1, -1,  1, -1,  1,  1, -1,  1,  1, -1, -1, -1,  1, -1,  1,  1,  1,\n",
       "        1, -1,  1,  1, -1,  1,  1,  1, -1, -1,  1,  1,  1, -1,  1,  1, -1,\n",
       "        1,  1, -1, -1,  1, -1,  1,  1,  1,  1, -1,  1, -1, -1, -1, -1, -1,\n",
       "        1, -1,  1, -1,  1, -1, -1,  1,  1,  1,  1, -1, -1,  1,  1,  1,  1,\n",
       "        1,  1,  1,  1,  1, -1, -1,  1, -1, -1,  1, -1, -1,  1,  1,  1, -1,\n",
       "        1,  1,  1, -1, -1, -1,  1,  1, -1,  1,  1,  1,  1, -1,  1, -1,  1,\n",
       "        1, -1, -1,  1,  1, -1,  1,  1,  1, -1,  1,  1,  1, -1,  1, -1,  1,\n",
       "        1,  1,  1,  1, -1,  1,  1,  1,  1, -1,  1,  1,  1,  1,  1,  1, -1,\n",
       "       -1, -1,  1], dtype=int64)"
      ]
     },
     "execution_count": 219,
     "metadata": {},
     "output_type": "execute_result"
    }
   ],
   "source": [
    "# KNN Trials\n",
    "\n",
    "lab_enc = preprocessing.LabelEncoder()\n",
    "y_train_encoded = lab_enc.fit_transform(y_train)\n",
    "\n",
    "knn_clf=KNeighborsClassifier()\n",
    "knn_clf.fit(X_train,y_train)\n",
    "ypred=knn_clf.predict(X_test)\n",
    "ypred"
   ]
  },
  {
   "cell_type": "code",
   "execution_count": 220,
   "id": "29a51817",
   "metadata": {},
   "outputs": [
    {
     "name": "stdout",
     "output_type": "stream",
     "text": [
      "[[278   0]\n",
      " [  0 405]]\n",
      "              precision    recall  f1-score   support\n",
      "\n",
      "          -1       1.00      1.00      1.00       278\n",
      "           1       1.00      1.00      1.00       405\n",
      "\n",
      "    accuracy                           1.00       683\n",
      "   macro avg       1.00      1.00      1.00       683\n",
      "weighted avg       1.00      1.00      1.00       683\n",
      "\n",
      "1.0\n"
     ]
    }
   ],
   "source": [
    "result = confusion_matrix(y_test, ypred)\n",
    "print(result)\n",
    "result1 = classification_report(y_test, ypred)\n",
    "print (result1)\n",
    "result2 = accuracy_score(y_test,ypred)\n",
    "print(result2)"
   ]
  }
 ],
 "metadata": {
  "kernelspec": {
   "display_name": "Python 3 (ipykernel)",
   "language": "python",
   "name": "python3"
  },
  "language_info": {
   "codemirror_mode": {
    "name": "ipython",
    "version": 3
   },
   "file_extension": ".py",
   "mimetype": "text/x-python",
   "name": "python",
   "nbconvert_exporter": "python",
   "pygments_lexer": "ipython3",
   "version": "3.9.7"
  }
 },
 "nbformat": 4,
 "nbformat_minor": 5
}
